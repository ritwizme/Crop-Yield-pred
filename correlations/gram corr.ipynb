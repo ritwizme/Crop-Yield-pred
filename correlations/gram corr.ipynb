{
 "cells": [
  {
   "cell_type": "code",
   "execution_count": 9,
   "metadata": {
    "collapsed": true
   },
   "outputs": [],
   "source": [
    "import seaborn as sns"
   ]
  },
  {
   "cell_type": "code",
   "execution_count": 10,
   "metadata": {
    "collapsed": true
   },
   "outputs": [],
   "source": [
    "%matplotlib inline\n"
   ]
  },
  {
   "cell_type": "code",
   "execution_count": 11,
   "metadata": {
    "collapsed": true
   },
   "outputs": [],
   "source": [
    "#"
   ]
  },
  {
   "cell_type": "code",
   "execution_count": 12,
   "metadata": {
    "collapsed": true
   },
   "outputs": [],
   "source": [
    "import numpy as np\n",
    "import pandas as pd"
   ]
  },
  {
   "cell_type": "code",
   "execution_count": 13,
   "metadata": {
    "collapsed": true
   },
   "outputs": [],
   "source": [
    "df = pd.read_csv(\"gram.csv\")"
   ]
  },
  {
   "cell_type": "code",
   "execution_count": 14,
   "metadata": {
    "collapsed": true
   },
   "outputs": [],
   "source": [
    "co = df.corr()"
   ]
  },
  {
   "cell_type": "code",
   "execution_count": 15,
   "metadata": {},
   "outputs": [
    {
     "data": {
      "text/plain": [
       "<matplotlib.axes._subplots.AxesSubplot at 0x1f41b42fcc0>"
      ]
     },
     "execution_count": 15,
     "metadata": {},
     "output_type": "execute_result"
    },
    {
     "data": {
      "image/png": "[encoded data removed]",
      "text/plain": [
       "<matplotlib.figure.Figure at 0x1f41920fe48>"
      ]
     },
     "metadata": {},
     "output_type": "display_data"
    }
   ],
   "source": [
    "sns.heatmap(co,annot=True)"
   ]
  },
  {
   "cell_type": "code",
   "execution_count": 18,
   "metadata": {},
   "outputs": [
    {
     "data": {
      "text/html": [
       "<div>\n",
       "<style>\n",
       "    .dataframe thead tr:only-child th {\n",
       "        text-align: right;\n",
       "    }\n",
       "\n",
       "    .dataframe thead th {\n",
       "        text-align: left;\n",
       "    }\n",
       "\n",
       "    .dataframe tbody tr th {\n",
       "        vertical-align: top;\n",
       "    }\n",
       "</style>\n",
       "<table border=\"1\" class=\"dataframe\">\n",
       "  <thead>\n",
       "    <tr style=\"text-align: right;\">\n",
       "      <th></th>\n",
       "      <th>YEAR</th>\n",
       "      <th>METEOROLOGICAL DROUGHT</th>\n",
       "      <th>HYDROLOGICAL DROUGHT</th>\n",
       "      <th>AGRICULTURAL DROUGHT</th>\n",
       "      <th>AREA UNDER CULTIVATION</th>\n",
       "      <th>YIELD</th>\n",
       "    </tr>\n",
       "  </thead>\n",
       "  <tbody>\n",
       "    <tr>\n",
       "      <th>YEAR</th>\n",
       "      <td>1.000000</td>\n",
       "      <td>-0.007490</td>\n",
       "      <td>-0.256634</td>\n",
       "      <td>-0.116098</td>\n",
       "      <td>-0.137643</td>\n",
       "      <td>0.200106</td>\n",
       "    </tr>\n",
       "    <tr>\n",
       "      <th>METEOROLOGICAL DROUGHT</th>\n",
       "      <td>-0.007490</td>\n",
       "      <td>1.000000</td>\n",
       "      <td>-0.163676</td>\n",
       "      <td>0.825614</td>\n",
       "      <td>0.507090</td>\n",
       "      <td>0.606517</td>\n",
       "    </tr>\n",
       "    <tr>\n",
       "      <th>HYDROLOGICAL DROUGHT</th>\n",
       "      <td>-0.256634</td>\n",
       "      <td>-0.163676</td>\n",
       "      <td>1.000000</td>\n",
       "      <td>0.023765</td>\n",
       "      <td>-0.071210</td>\n",
       "      <td>-0.483628</td>\n",
       "    </tr>\n",
       "    <tr>\n",
       "      <th>AGRICULTURAL DROUGHT</th>\n",
       "      <td>-0.116098</td>\n",
       "      <td>0.825614</td>\n",
       "      <td>0.023765</td>\n",
       "      <td>1.000000</td>\n",
       "      <td>0.485347</td>\n",
       "      <td>0.544707</td>\n",
       "    </tr>\n",
       "    <tr>\n",
       "      <th>AREA UNDER CULTIVATION</th>\n",
       "      <td>-0.137643</td>\n",
       "      <td>0.507090</td>\n",
       "      <td>-0.071210</td>\n",
       "      <td>0.485347</td>\n",
       "      <td>1.000000</td>\n",
       "      <td>0.574364</td>\n",
       "    </tr>\n",
       "    <tr>\n",
       "      <th>YIELD</th>\n",
       "      <td>0.200106</td>\n",
       "      <td>0.606517</td>\n",
       "      <td>-0.483628</td>\n",
       "      <td>0.544707</td>\n",
       "      <td>0.574364</td>\n",
       "      <td>1.000000</td>\n",
       "    </tr>\n",
       "  </tbody>\n",
       "</table>\n",
       "</div>"
      ],
      "text/plain": [
       "                            YEAR  METEOROLOGICAL DROUGHT  \\\n",
       "YEAR                    1.000000               -0.007490   \n",
       "METEOROLOGICAL DROUGHT -0.007490                1.000000   \n",
       "HYDROLOGICAL DROUGHT   -0.256634               -0.163676   \n",
       "AGRICULTURAL DROUGHT   -0.116098                0.825614   \n",
       "AREA UNDER CULTIVATION -0.137643                0.507090   \n",
       "YIELD                   0.200106                0.606517   \n",
       "\n",
       "                        HYDROLOGICAL DROUGHT  AGRICULTURAL DROUGHT  \\\n",
       "YEAR                               -0.256634             -0.116098   \n",
       "METEOROLOGICAL DROUGHT             -0.163676              0.825614   \n",
       "HYDROLOGICAL DROUGHT                1.000000              0.023765   \n",
       "AGRICULTURAL DROUGHT                0.023765              1.000000   \n",
       "AREA UNDER CULTIVATION             -0.071210              0.485347   \n",
       "YIELD                              -0.483628              0.544707   \n",
       "\n",
       "                        AREA UNDER CULTIVATION     YIELD  \n",
       "YEAR                                 -0.137643  0.200106  \n",
       "METEOROLOGICAL DROUGHT                0.507090  0.606517  \n",
       "HYDROLOGICAL DROUGHT                 -0.071210 -0.483628  \n",
       "AGRICULTURAL DROUGHT                  0.485347  0.544707  \n",
       "AREA UNDER CULTIVATION                1.000000  0.574364  \n",
       "YIELD                                 0.574364  1.000000  "
      ]
     },
     "execution_count": 18,
     "metadata": {},
     "output_type": "execute_result"
    }
   ],
   "source": [
    "co"
   ]
  },
  {
   "cell_type": "code",
   "execution_count": 19,
   "metadata": {
    "collapsed": true
   },
   "outputs": [],
   "source": [
    "#"
   ]
  },
  {
   "cell_type": "code",
   "execution_count": null,
   "metadata": {
    "collapsed": true
   },
   "outputs": [],
   "source": []
  }
 ],
 "metadata": {
  "kernelspec": {
   "display_name": "Python 3",
   "language": "python",
   "name": "python3"
  },
  "language_info": {
   "codemirror_mode": {
    "name": "ipython",
    "version": 3
   },
   "file_extension": ".py",
   "mimetype": "text/x-python",
   "name": "python",
   "nbconvert_exporter": "python",
   "pygments_lexer": "ipython3",
   "version": "3.6.3"
  }
 },
 "nbformat": 4,
 "nbformat_minor": 2
}
