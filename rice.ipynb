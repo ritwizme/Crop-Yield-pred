{
 "cells": [
  {
   "cell_type": "code",
   "execution_count": null,
   "metadata": {
    "collapsed": true
   },
   "outputs": [],
   "source": [
    "#RICE"
   ]
  },
  {
   "cell_type": "code",
   "execution_count": 6,
   "metadata": {
    "collapsed": true
   },
   "outputs": [],
   "source": [
    "import numpy as np\n",
    "import pandas as pd\n",
    "%matplotlib inline"
   ]
  },
  {
   "cell_type": "code",
   "execution_count": 7,
   "metadata": {
    "collapsed": true
   },
   "outputs": [],
   "source": [
    "df = pd.read_csv(\"rice.csv\")"
   ]
  },
  {
   "cell_type": "code",
   "execution_count": 8,
   "metadata": {},
   "outputs": [
    {
     "data": {
      "text/html": [
       "<div>\n",
       "<style>\n",
       "    .dataframe thead tr:only-child th {\n",
       "        text-align: right;\n",
       "    }\n",
       "\n",
       "    .dataframe thead th {\n",
       "        text-align: left;\n",
       "    }\n",
       "\n",
       "    .dataframe tbody tr th {\n",
       "        vertical-align: top;\n",
       "    }\n",
       "</style>\n",
       "<table border=\"1\" class=\"dataframe\">\n",
       "  <thead>\n",
       "    <tr style=\"text-align: right;\">\n",
       "      <th></th>\n",
       "      <th>YEAR</th>\n",
       "      <th>AUC</th>\n",
       "      <th>AR</th>\n",
       "      <th>MSP</th>\n",
       "      <th>CPI</th>\n",
       "      <th>FPI</th>\n",
       "      <th>CY</th>\n",
       "    </tr>\n",
       "  </thead>\n",
       "  <tbody>\n",
       "    <tr>\n",
       "      <th>0</th>\n",
       "      <td>1980</td>\n",
       "      <td>40.15</td>\n",
       "      <td>1182.3</td>\n",
       "      <td>105</td>\n",
       "      <td>82.4</td>\n",
       "      <td>126.5</td>\n",
       "      <td>53.63</td>\n",
       "    </tr>\n",
       "    <tr>\n",
       "      <th>1</th>\n",
       "      <td>1981</td>\n",
       "      <td>40.71</td>\n",
       "      <td>1170.7</td>\n",
       "      <td>115</td>\n",
       "      <td>90.9</td>\n",
       "      <td>114.8</td>\n",
       "      <td>53.25</td>\n",
       "    </tr>\n",
       "    <tr>\n",
       "      <th>2</th>\n",
       "      <td>1982</td>\n",
       "      <td>38.26</td>\n",
       "      <td>1084.4</td>\n",
       "      <td>122</td>\n",
       "      <td>96.5</td>\n",
       "      <td>111.9</td>\n",
       "      <td>47.12</td>\n",
       "    </tr>\n",
       "    <tr>\n",
       "      <th>3</th>\n",
       "      <td>1983</td>\n",
       "      <td>41.24</td>\n",
       "      <td>1320.9</td>\n",
       "      <td>132</td>\n",
       "      <td>99.6</td>\n",
       "      <td>118.1</td>\n",
       "      <td>60.10</td>\n",
       "    </tr>\n",
       "    <tr>\n",
       "      <th>4</th>\n",
       "      <td>1984</td>\n",
       "      <td>41.16</td>\n",
       "      <td>1160.8</td>\n",
       "      <td>137</td>\n",
       "      <td>103.9</td>\n",
       "      <td>107.8</td>\n",
       "      <td>58.34</td>\n",
       "    </tr>\n",
       "  </tbody>\n",
       "</table>\n",
       "</div>"
      ],
      "text/plain": [
       "   YEAR    AUC      AR  MSP    CPI    FPI     CY\n",
       "0  1980  40.15  1182.3  105   82.4  126.5  53.63\n",
       "1  1981  40.71  1170.7  115   90.9  114.8  53.25\n",
       "2  1982  38.26  1084.4  122   96.5  111.9  47.12\n",
       "3  1983  41.24  1320.9  132   99.6  118.1  60.10\n",
       "4  1984  41.16  1160.8  137  103.9  107.8  58.34"
      ]
     },
     "execution_count": 8,
     "metadata": {},
     "output_type": "execute_result"
    }
   ],
   "source": [
    "df.head()"
   ]
  },
  {
   "cell_type": "code",
   "execution_count": 9,
   "metadata": {
    "collapsed": true
   },
   "outputs": [],
   "source": [
    "from sklearn.model_selection import train_test_split"
   ]
  },
  {
   "cell_type": "code",
   "execution_count": 10,
   "metadata": {
    "collapsed": true
   },
   "outputs": [],
   "source": [
    "df=df.dropna()"
   ]
  },
  {
   "cell_type": "code",
   "execution_count": 11,
   "metadata": {
    "collapsed": true
   },
   "outputs": [],
   "source": [
    "X = df[['YEAR','AUC','AR','MSP','CPI','FPI']]"
   ]
  },
  {
   "cell_type": "code",
   "execution_count": 12,
   "metadata": {
    "collapsed": true
   },
   "outputs": [],
   "source": [
    "y=df['CY']"
   ]
  },
  {
   "cell_type": "code",
   "execution_count": 13,
   "metadata": {
    "collapsed": true
   },
   "outputs": [],
   "source": [
    "X_train,X_test,y_train,y_test = train_test_split(X,y,test_size=0.3,random_state=101)"
   ]
  },
  {
   "cell_type": "code",
   "execution_count": 14,
   "metadata": {
    "collapsed": true
   },
   "outputs": [],
   "source": [
    "from sklearn.linear_model import LinearRegression"
   ]
  },
  {
   "cell_type": "code",
   "execution_count": 15,
   "metadata": {
    "collapsed": true
   },
   "outputs": [],
   "source": [
    "lm = LinearRegression()"
   ]
  },
  {
   "cell_type": "code",
   "execution_count": 16,
   "metadata": {},
   "outputs": [
    {
     "data": {
      "text/plain": [
       "LinearRegression(copy_X=True, fit_intercept=True, n_jobs=1, normalize=False)"
      ]
     },
     "execution_count": 16,
     "metadata": {},
     "output_type": "execute_result"
    }
   ],
   "source": [
    "lm.fit(X_train,y_train)"
   ]
  },
  {
   "cell_type": "code",
   "execution_count": 17,
   "metadata": {
    "collapsed": true
   },
   "outputs": [],
   "source": [
    "pred = lm.predict(X_test)"
   ]
  },
  {
   "cell_type": "code",
   "execution_count": 18,
   "metadata": {},
   "outputs": [
    {
     "name": "stdout",
     "output_type": "stream",
     "text": [
      "[ 54.89177555  87.47433749 101.53517844  92.92986156  86.83863493\n",
      "  89.02776194  49.27309226  94.43767704  83.37225051  81.73665818]\n"
     ]
    }
   ],
   "source": [
    "print(pred)"
   ]
  },
  {
   "cell_type": "code",
   "execution_count": 19,
   "metadata": {
    "collapsed": true
   },
   "outputs": [],
   "source": [
    "import matplotlib.pyplot as plt"
   ]
  },
  {
   "cell_type": "code",
   "execution_count": 20,
   "metadata": {},
   "outputs": [
    {
     "data": {
      "text/plain": [
       "Text(0,0.5,'Predected y')"
      ]
     },
     "execution_count": 20,
     "metadata": {},
     "output_type": "execute_result"
    },
    {
     "data": {
      "image/png": "[encoded data removed]",
      "text/plain": [
       "<matplotlib.figure.Figure at 0x2a1ecbba080>"
      ]
     },
     "metadata": {},
     "output_type": "display_data"
    }
   ],
   "source": [
    "plt.scatter(y_test,pred)\n",
    "plt.xlabel('Y test')\n",
    "plt.ylabel('Predected y')"
   ]
  },
  {
   "cell_type": "code",
   "execution_count": 24,
   "metadata": {
    "collapsed": true
   },
   "outputs": [],
   "source": [
    "df2 = pd.read_csv(\"maize.csv\")"
   ]
  },
  {
   "cell_type": "code",
   "execution_count": 25,
   "metadata": {},
   "outputs": [
    {
     "data": {
      "text/html": [
       "<div>\n",
       "<style>\n",
       "    .dataframe thead tr:only-child th {\n",
       "        text-align: right;\n",
       "    }\n",
       "\n",
       "    .dataframe thead th {\n",
       "        text-align: left;\n",
       "    }\n",
       "\n",
       "    .dataframe tbody tr th {\n",
       "        vertical-align: top;\n",
       "    }\n",
       "</style>\n",
       "<table border=\"1\" class=\"dataframe\">\n",
       "  <thead>\n",
       "    <tr style=\"text-align: right;\">\n",
       "      <th></th>\n",
       "      <th>YEAR</th>\n",
       "      <th>AUC</th>\n",
       "      <th>AR</th>\n",
       "      <th>MSP</th>\n",
       "      <th>CPI</th>\n",
       "      <th>FPI</th>\n",
       "      <th>CY</th>\n",
       "      <th>Production</th>\n",
       "    </tr>\n",
       "  </thead>\n",
       "  <tbody>\n",
       "    <tr>\n",
       "      <th>0</th>\n",
       "      <td>1980</td>\n",
       "      <td>6.01</td>\n",
       "      <td>1182.3</td>\n",
       "      <td>160</td>\n",
       "      <td>82.4</td>\n",
       "      <td>93.2</td>\n",
       "      <td>1159</td>\n",
       "      <td>6.96</td>\n",
       "    </tr>\n",
       "    <tr>\n",
       "      <th>1</th>\n",
       "      <td>1981</td>\n",
       "      <td>5.94</td>\n",
       "      <td>1170.7</td>\n",
       "      <td>165</td>\n",
       "      <td>90.9</td>\n",
       "      <td>93.8</td>\n",
       "      <td>1162</td>\n",
       "      <td>6.90</td>\n",
       "    </tr>\n",
       "    <tr>\n",
       "      <th>2</th>\n",
       "      <td>1982</td>\n",
       "      <td>5.72</td>\n",
       "      <td>1084.4</td>\n",
       "      <td>170</td>\n",
       "      <td>96.5</td>\n",
       "      <td>94.0</td>\n",
       "      <td>1145</td>\n",
       "      <td>6.55</td>\n",
       "    </tr>\n",
       "    <tr>\n",
       "      <th>3</th>\n",
       "      <td>1983</td>\n",
       "      <td>5.86</td>\n",
       "      <td>1320.9</td>\n",
       "      <td>170</td>\n",
       "      <td>99.6</td>\n",
       "      <td>94.2</td>\n",
       "      <td>1352</td>\n",
       "      <td>7.92</td>\n",
       "    </tr>\n",
       "    <tr>\n",
       "      <th>4</th>\n",
       "      <td>1984</td>\n",
       "      <td>5.80</td>\n",
       "      <td>1160.8</td>\n",
       "      <td>185</td>\n",
       "      <td>103.9</td>\n",
       "      <td>94.7</td>\n",
       "      <td>1456</td>\n",
       "      <td>8.44</td>\n",
       "    </tr>\n",
       "  </tbody>\n",
       "</table>\n",
       "</div>"
      ],
      "text/plain": [
       "   YEAR   AUC      AR  MSP    CPI   FPI    CY  Production\n",
       "0  1980  6.01  1182.3  160   82.4  93.2  1159        6.96\n",
       "1  1981  5.94  1170.7  165   90.9  93.8  1162        6.90\n",
       "2  1982  5.72  1084.4  170   96.5  94.0  1145        6.55\n",
       "3  1983  5.86  1320.9  170   99.6  94.2  1352        7.92\n",
       "4  1984  5.80  1160.8  185  103.9  94.7  1456        8.44"
      ]
     },
     "execution_count": 25,
     "metadata": {},
     "output_type": "execute_result"
    }
   ],
   "source": [
    "df2.head()"
   ]
  },
  {
   "cell_type": "code",
   "execution_count": 27,
   "metadata": {},
   "outputs": [],
   "source": [
    "X = df2[['YEAR','AUC','AR','MSP','CPI','FPI']]"
   ]
  },
  {
   "cell_type": "code",
   "execution_count": 28,
   "metadata": {
    "collapsed": true
   },
   "outputs": [],
   "source": [
    "y=df2['CY']"
   ]
  },
  {
   "cell_type": "code",
   "execution_count": 29,
   "metadata": {},
   "outputs": [
    {
     "data": {
      "text/html": [
       "<div>\n",
       "<style>\n",
       "    .dataframe thead tr:only-child th {\n",
       "        text-align: right;\n",
       "    }\n",
       "\n",
       "    .dataframe thead th {\n",
       "        text-align: left;\n",
       "    }\n",
       "\n",
       "    .dataframe tbody tr th {\n",
       "        vertical-align: top;\n",
       "    }\n",
       "</style>\n",
       "<table border=\"1\" class=\"dataframe\">\n",
       "  <thead>\n",
       "    <tr style=\"text-align: right;\">\n",
       "      <th></th>\n",
       "      <th>YEAR</th>\n",
       "      <th>AUC</th>\n",
       "      <th>AR</th>\n",
       "      <th>MSP</th>\n",
       "      <th>CPI</th>\n",
       "      <th>FPI</th>\n",
       "    </tr>\n",
       "  </thead>\n",
       "  <tbody>\n",
       "    <tr>\n",
       "      <th>0</th>\n",
       "      <td>1980</td>\n",
       "      <td>6.01</td>\n",
       "      <td>1182.3</td>\n",
       "      <td>160</td>\n",
       "      <td>82.400</td>\n",
       "      <td>93.2</td>\n",
       "    </tr>\n",
       "    <tr>\n",
       "      <th>1</th>\n",
       "      <td>1981</td>\n",
       "      <td>5.94</td>\n",
       "      <td>1170.7</td>\n",
       "      <td>165</td>\n",
       "      <td>90.900</td>\n",
       "      <td>93.8</td>\n",
       "    </tr>\n",
       "    <tr>\n",
       "      <th>2</th>\n",
       "      <td>1982</td>\n",
       "      <td>5.72</td>\n",
       "      <td>1084.4</td>\n",
       "      <td>170</td>\n",
       "      <td>96.500</td>\n",
       "      <td>94.0</td>\n",
       "    </tr>\n",
       "    <tr>\n",
       "      <th>3</th>\n",
       "      <td>1983</td>\n",
       "      <td>5.86</td>\n",
       "      <td>1320.9</td>\n",
       "      <td>170</td>\n",
       "      <td>99.600</td>\n",
       "      <td>94.2</td>\n",
       "    </tr>\n",
       "    <tr>\n",
       "      <th>4</th>\n",
       "      <td>1984</td>\n",
       "      <td>5.80</td>\n",
       "      <td>1160.8</td>\n",
       "      <td>185</td>\n",
       "      <td>103.900</td>\n",
       "      <td>94.7</td>\n",
       "    </tr>\n",
       "    <tr>\n",
       "      <th>5</th>\n",
       "      <td>1985</td>\n",
       "      <td>5.80</td>\n",
       "      <td>1144.9</td>\n",
       "      <td>190</td>\n",
       "      <td>107.600</td>\n",
       "      <td>95.4</td>\n",
       "    </tr>\n",
       "    <tr>\n",
       "      <th>6</th>\n",
       "      <td>1986</td>\n",
       "      <td>5.92</td>\n",
       "      <td>1137.6</td>\n",
       "      <td>190</td>\n",
       "      <td>109.600</td>\n",
       "      <td>95.8</td>\n",
       "    </tr>\n",
       "    <tr>\n",
       "      <th>7</th>\n",
       "      <td>1987</td>\n",
       "      <td>5.56</td>\n",
       "      <td>1088.9</td>\n",
       "      <td>200</td>\n",
       "      <td>113.600</td>\n",
       "      <td>96.0</td>\n",
       "    </tr>\n",
       "    <tr>\n",
       "      <th>8</th>\n",
       "      <td>1988</td>\n",
       "      <td>5.90</td>\n",
       "      <td>1342.1</td>\n",
       "      <td>205</td>\n",
       "      <td>118.300</td>\n",
       "      <td>96.3</td>\n",
       "    </tr>\n",
       "    <tr>\n",
       "      <th>9</th>\n",
       "      <td>1989</td>\n",
       "      <td>5.92</td>\n",
       "      <td>1127.4</td>\n",
       "      <td>215</td>\n",
       "      <td>124.000</td>\n",
       "      <td>96.8</td>\n",
       "    </tr>\n",
       "    <tr>\n",
       "      <th>10</th>\n",
       "      <td>1990</td>\n",
       "      <td>5.90</td>\n",
       "      <td>1401.4</td>\n",
       "      <td>220</td>\n",
       "      <td>130.700</td>\n",
       "      <td>97.3</td>\n",
       "    </tr>\n",
       "    <tr>\n",
       "      <th>11</th>\n",
       "      <td>1991</td>\n",
       "      <td>5.86</td>\n",
       "      <td>1170.2</td>\n",
       "      <td>240</td>\n",
       "      <td>136.200</td>\n",
       "      <td>95.8</td>\n",
       "    </tr>\n",
       "    <tr>\n",
       "      <th>12</th>\n",
       "      <td>1992</td>\n",
       "      <td>5.96</td>\n",
       "      <td>1102.7</td>\n",
       "      <td>245</td>\n",
       "      <td>140.300</td>\n",
       "      <td>101.1</td>\n",
       "    </tr>\n",
       "    <tr>\n",
       "      <th>13</th>\n",
       "      <td>1993</td>\n",
       "      <td>6.00</td>\n",
       "      <td>1207.8</td>\n",
       "      <td>265</td>\n",
       "      <td>144.500</td>\n",
       "      <td>98.4</td>\n",
       "    </tr>\n",
       "    <tr>\n",
       "      <th>14</th>\n",
       "      <td>1994</td>\n",
       "      <td>6.14</td>\n",
       "      <td>1295.3</td>\n",
       "      <td>290</td>\n",
       "      <td>148.200</td>\n",
       "      <td>103.0</td>\n",
       "    </tr>\n",
       "    <tr>\n",
       "      <th>15</th>\n",
       "      <td>1995</td>\n",
       "      <td>5.98</td>\n",
       "      <td>1242.4</td>\n",
       "      <td>310</td>\n",
       "      <td>152.400</td>\n",
       "      <td>116.6</td>\n",
       "    </tr>\n",
       "    <tr>\n",
       "      <th>16</th>\n",
       "      <td>1996</td>\n",
       "      <td>6.26</td>\n",
       "      <td>1182.9</td>\n",
       "      <td>320</td>\n",
       "      <td>156.900</td>\n",
       "      <td>137.9</td>\n",
       "    </tr>\n",
       "    <tr>\n",
       "      <th>17</th>\n",
       "      <td>1997</td>\n",
       "      <td>6.32</td>\n",
       "      <td>1183.1</td>\n",
       "      <td>360</td>\n",
       "      <td>160.500</td>\n",
       "      <td>110.7</td>\n",
       "    </tr>\n",
       "    <tr>\n",
       "      <th>18</th>\n",
       "      <td>1998</td>\n",
       "      <td>6.20</td>\n",
       "      <td>1208.8</td>\n",
       "      <td>390</td>\n",
       "      <td>163.000</td>\n",
       "      <td>98.3</td>\n",
       "    </tr>\n",
       "    <tr>\n",
       "      <th>19</th>\n",
       "      <td>1999</td>\n",
       "      <td>6.42</td>\n",
       "      <td>1116.6</td>\n",
       "      <td>415</td>\n",
       "      <td>166.600</td>\n",
       "      <td>89.3</td>\n",
       "    </tr>\n",
       "    <tr>\n",
       "      <th>20</th>\n",
       "      <td>2000</td>\n",
       "      <td>6.61</td>\n",
       "      <td>1035.4</td>\n",
       "      <td>445</td>\n",
       "      <td>172.200</td>\n",
       "      <td>85.8</td>\n",
       "    </tr>\n",
       "    <tr>\n",
       "      <th>21</th>\n",
       "      <td>2001</td>\n",
       "      <td>6.58</td>\n",
       "      <td>1100.7</td>\n",
       "      <td>485</td>\n",
       "      <td>177.100</td>\n",
       "      <td>86.8</td>\n",
       "    </tr>\n",
       "    <tr>\n",
       "      <th>22</th>\n",
       "      <td>2002</td>\n",
       "      <td>6.64</td>\n",
       "      <td>935.9</td>\n",
       "      <td>485</td>\n",
       "      <td>179.880</td>\n",
       "      <td>93.7</td>\n",
       "    </tr>\n",
       "    <tr>\n",
       "      <th>23</th>\n",
       "      <td>2003</td>\n",
       "      <td>7.34</td>\n",
       "      <td>1187.3</td>\n",
       "      <td>505</td>\n",
       "      <td>183.960</td>\n",
       "      <td>99.2</td>\n",
       "    </tr>\n",
       "    <tr>\n",
       "      <th>24</th>\n",
       "      <td>2004</td>\n",
       "      <td>7.43</td>\n",
       "      <td>1106.5</td>\n",
       "      <td>525</td>\n",
       "      <td>188.900</td>\n",
       "      <td>107.1</td>\n",
       "    </tr>\n",
       "    <tr>\n",
       "      <th>25</th>\n",
       "      <td>2005</td>\n",
       "      <td>7.59</td>\n",
       "      <td>1208.3</td>\n",
       "      <td>540</td>\n",
       "      <td>195.300</td>\n",
       "      <td>101.3</td>\n",
       "    </tr>\n",
       "    <tr>\n",
       "      <th>26</th>\n",
       "      <td>2006</td>\n",
       "      <td>7.89</td>\n",
       "      <td>1161.6</td>\n",
       "      <td>540</td>\n",
       "      <td>201.600</td>\n",
       "      <td>118.9</td>\n",
       "    </tr>\n",
       "    <tr>\n",
       "      <th>27</th>\n",
       "      <td>2007</td>\n",
       "      <td>8.12</td>\n",
       "      <td>1179.3</td>\n",
       "      <td>620</td>\n",
       "      <td>207.342</td>\n",
       "      <td>163.4</td>\n",
       "    </tr>\n",
       "    <tr>\n",
       "      <th>28</th>\n",
       "      <td>2008</td>\n",
       "      <td>8.17</td>\n",
       "      <td>1118.0</td>\n",
       "      <td>840</td>\n",
       "      <td>214.537</td>\n",
       "      <td>232.1</td>\n",
       "    </tr>\n",
       "    <tr>\n",
       "      <th>29</th>\n",
       "      <td>2009</td>\n",
       "      <td>8.26</td>\n",
       "      <td>953.7</td>\n",
       "      <td>840</td>\n",
       "      <td>215.303</td>\n",
       "      <td>170.2</td>\n",
       "    </tr>\n",
       "    <tr>\n",
       "      <th>30</th>\n",
       "      <td>2010</td>\n",
       "      <td>8.49</td>\n",
       "      <td>1215.5</td>\n",
       "      <td>880</td>\n",
       "      <td>218.056</td>\n",
       "      <td>179.2</td>\n",
       "    </tr>\n",
       "    <tr>\n",
       "      <th>31</th>\n",
       "      <td>2011</td>\n",
       "      <td>7.27</td>\n",
       "      <td>1116.3</td>\n",
       "      <td>980</td>\n",
       "      <td>224.939</td>\n",
       "      <td>240.9</td>\n",
       "    </tr>\n",
       "  </tbody>\n",
       "</table>\n",
       "</div>"
      ],
      "text/plain": [
       "    YEAR   AUC      AR  MSP      CPI    FPI\n",
       "0   1980  6.01  1182.3  160   82.400   93.2\n",
       "1   1981  5.94  1170.7  165   90.900   93.8\n",
       "2   1982  5.72  1084.4  170   96.500   94.0\n",
       "3   1983  5.86  1320.9  170   99.600   94.2\n",
       "4   1984  5.80  1160.8  185  103.900   94.7\n",
       "5   1985  5.80  1144.9  190  107.600   95.4\n",
       "6   1986  5.92  1137.6  190  109.600   95.8\n",
       "7   1987  5.56  1088.9  200  113.600   96.0\n",
       "8   1988  5.90  1342.1  205  118.300   96.3\n",
       "9   1989  5.92  1127.4  215  124.000   96.8\n",
       "10  1990  5.90  1401.4  220  130.700   97.3\n",
       "11  1991  5.86  1170.2  240  136.200   95.8\n",
       "12  1992  5.96  1102.7  245  140.300  101.1\n",
       "13  1993  6.00  1207.8  265  144.500   98.4\n",
       "14  1994  6.14  1295.3  290  148.200  103.0\n",
       "15  1995  5.98  1242.4  310  152.400  116.6\n",
       "16  1996  6.26  1182.9  320  156.900  137.9\n",
       "17  1997  6.32  1183.1  360  160.500  110.7\n",
       "18  1998  6.20  1208.8  390  163.000   98.3\n",
       "19  1999  6.42  1116.6  415  166.600   89.3\n",
       "20  2000  6.61  1035.4  445  172.200   85.8\n",
       "21  2001  6.58  1100.7  485  177.100   86.8\n",
       "22  2002  6.64   935.9  485  179.880   93.7\n",
       "23  2003  7.34  1187.3  505  183.960   99.2\n",
       "24  2004  7.43  1106.5  525  188.900  107.1\n",
       "25  2005  7.59  1208.3  540  195.300  101.3\n",
       "26  2006  7.89  1161.6  540  201.600  118.9\n",
       "27  2007  8.12  1179.3  620  207.342  163.4\n",
       "28  2008  8.17  1118.0  840  214.537  232.1\n",
       "29  2009  8.26   953.7  840  215.303  170.2\n",
       "30  2010  8.49  1215.5  880  218.056  179.2\n",
       "31  2011  7.27  1116.3  980  224.939  240.9"
      ]
     },
     "execution_count": 29,
     "metadata": {},
     "output_type": "execute_result"
    }
   ],
   "source": [
    "X\n"
   ]
  },
  {
   "cell_type": "code",
   "execution_count": null,
   "metadata": {
    "collapsed": true
   },
   "outputs": [],
   "source": []
  }
 ],
 "metadata": {
  "kernelspec": {
   "display_name": "Python 3",
   "language": "python",
   "name": "python3"
  },
  "language_info": {
   "codemirror_mode": {
    "name": "ipython",
    "version": 3
   },
   "file_extension": ".py",
   "mimetype": "text/x-python",
   "name": "python",
   "nbconvert_exporter": "python",
   "pygments_lexer": "ipython3",
   "version": "3.6.3"
  }
 },
 "nbformat": 4,
 "nbformat_minor": 2
}
