{
 "cells": [
  {
   "cell_type": "code",
   "execution_count": null,
   "metadata": {
    "collapsed": true
   },
   "outputs": [],
   "source": [
    "#gram\n"
   ]
  },
  {
   "cell_type": "code",
   "execution_count": 3,
   "metadata": {
    "collapsed": true
   },
   "outputs": [],
   "source": [
    "import numpy as np\n",
    "import pandas as pd\n",
    "import matplotlib.pyplot as plt\n",
    "%matplotlib inline"
   ]
  },
  {
   "cell_type": "code",
   "execution_count": 4,
   "metadata": {
    "collapsed": true
   },
   "outputs": [],
   "source": [
    "df = pd.read_csv(\"gram.csv\")"
   ]
  },
  {
   "cell_type": "code",
   "execution_count": 5,
   "metadata": {},
   "outputs": [
    {
     "data": {
      "text/html": [
       "<div>\n",
       "<style>\n",
       "    .dataframe thead tr:only-child th {\n",
       "        text-align: right;\n",
       "    }\n",
       "\n",
       "    .dataframe thead th {\n",
       "        text-align: left;\n",
       "    }\n",
       "\n",
       "    .dataframe tbody tr th {\n",
       "        vertical-align: top;\n",
       "    }\n",
       "</style>\n",
       "<table border=\"1\" class=\"dataframe\">\n",
       "  <thead>\n",
       "    <tr style=\"text-align: right;\">\n",
       "      <th></th>\n",
       "      <th>YEAR</th>\n",
       "      <th>AUC</th>\n",
       "      <th>AR</th>\n",
       "      <th>MSP</th>\n",
       "      <th>CPI</th>\n",
       "      <th>FPI</th>\n",
       "      <th>CY</th>\n",
       "      <th>Production</th>\n",
       "    </tr>\n",
       "  </thead>\n",
       "  <tbody>\n",
       "    <tr>\n",
       "      <th>0</th>\n",
       "      <td>1980</td>\n",
       "      <td>6.58</td>\n",
       "      <td>1182.3</td>\n",
       "      <td>360</td>\n",
       "      <td>82.4</td>\n",
       "      <td>94.7</td>\n",
       "      <td>657.0</td>\n",
       "      <td>4.33</td>\n",
       "    </tr>\n",
       "    <tr>\n",
       "      <th>1</th>\n",
       "      <td>1981</td>\n",
       "      <td>7.87</td>\n",
       "      <td>1170.7</td>\n",
       "      <td>370</td>\n",
       "      <td>90.9</td>\n",
       "      <td>95.8</td>\n",
       "      <td>590.0</td>\n",
       "      <td>4.64</td>\n",
       "    </tr>\n",
       "    <tr>\n",
       "      <th>2</th>\n",
       "      <td>1982</td>\n",
       "      <td>7.40</td>\n",
       "      <td>1084.4</td>\n",
       "      <td>390</td>\n",
       "      <td>96.5</td>\n",
       "      <td>95.2</td>\n",
       "      <td>715.0</td>\n",
       "      <td>5.29</td>\n",
       "    </tr>\n",
       "    <tr>\n",
       "      <th>3</th>\n",
       "      <td>1983</td>\n",
       "      <td>7.16</td>\n",
       "      <td>1320.9</td>\n",
       "      <td>390</td>\n",
       "      <td>99.6</td>\n",
       "      <td>96.3</td>\n",
       "      <td>663.0</td>\n",
       "      <td>4.75</td>\n",
       "    </tr>\n",
       "    <tr>\n",
       "      <th>4</th>\n",
       "      <td>1984</td>\n",
       "      <td>6.91</td>\n",
       "      <td>1160.8</td>\n",
       "      <td>400</td>\n",
       "      <td>103.9</td>\n",
       "      <td>96.8</td>\n",
       "      <td>661.0</td>\n",
       "      <td>4.56</td>\n",
       "    </tr>\n",
       "  </tbody>\n",
       "</table>\n",
       "</div>"
      ],
      "text/plain": [
       "   YEAR    AUC      AR  MSP    CPI   FPI     CY  Production\n",
       "0   1980  6.58  1182.3  360   82.4  94.7  657.0        4.33\n",
       "1   1981  7.87  1170.7  370   90.9  95.8  590.0        4.64\n",
       "2   1982  7.40  1084.4  390   96.5  95.2  715.0        5.29\n",
       "3   1983  7.16  1320.9  390   99.6  96.3  663.0        4.75\n",
       "4   1984  6.91  1160.8  400  103.9  96.8  661.0        4.56"
      ]
     },
     "execution_count": 5,
     "metadata": {},
     "output_type": "execute_result"
    }
   ],
   "source": [
    "df.head()"
   ]
  },
  {
   "cell_type": "code",
   "execution_count": 6,
   "metadata": {
    "collapsed": true
   },
   "outputs": [],
   "source": [
    "from sklearn.model_selection import train_test_split"
   ]
  },
  {
   "cell_type": "code",
   "execution_count": 7,
   "metadata": {
    "collapsed": true
   },
   "outputs": [],
   "source": [
    "df=df.dropna()"
   ]
  },
  {
   "cell_type": "code",
   "execution_count": 8,
   "metadata": {
    "collapsed": true
   },
   "outputs": [],
   "source": [
    "X = df[['AUC','AR','MSP','CPI','FPI']]"
   ]
  },
  {
   "cell_type": "code",
   "execution_count": 9,
   "metadata": {
    "collapsed": true
   },
   "outputs": [],
   "source": [
    "y=df['Production']"
   ]
  },
  {
   "cell_type": "code",
   "execution_count": 10,
   "metadata": {
    "collapsed": true
   },
   "outputs": [],
   "source": [
    "X_train,X_test,y_train,y_test = train_test_split(X,y,test_size=0.3,random_state=101)"
   ]
  },
  {
   "cell_type": "code",
   "execution_count": 11,
   "metadata": {
    "collapsed": true
   },
   "outputs": [],
   "source": [
    "from sklearn.linear_model import LinearRegression"
   ]
  },
  {
   "cell_type": "code",
   "execution_count": 12,
   "metadata": {
    "collapsed": true
   },
   "outputs": [],
   "source": [
    "lm = LinearRegression()"
   ]
  },
  {
   "cell_type": "code",
   "execution_count": 13,
   "metadata": {},
   "outputs": [
    {
     "data": {
      "text/plain": [
       "LinearRegression(copy_X=True, fit_intercept=True, n_jobs=1, normalize=False)"
      ]
     },
     "execution_count": 13,
     "metadata": {},
     "output_type": "execute_result"
    }
   ],
   "source": [
    "lm.fit(X_train,y_train)"
   ]
  },
  {
   "cell_type": "code",
   "execution_count": 14,
   "metadata": {
    "collapsed": true
   },
   "outputs": [],
   "source": [
    "pred = lm.predict(X_test)"
   ]
  },
  {
   "cell_type": "code",
   "execution_count": 15,
   "metadata": {},
   "outputs": [
    {
     "name": "stdout",
     "output_type": "stream",
     "text": [
      "[3.52899004 6.47621313 6.07607363 5.94285595 4.73813134 5.13401161\n",
      " 4.75251554 6.32827397 5.45631424 4.97714097]\n"
     ]
    }
   ],
   "source": [
    "print(pred)"
   ]
  },
  {
   "cell_type": "code",
   "execution_count": 16,
   "metadata": {},
   "outputs": [
    {
     "data": {
      "text/plain": [
       "Text(0,0.5,'Predected y')"
      ]
     },
     "execution_count": 16,
     "metadata": {},
     "output_type": "execute_result"
    },
    {
     "data": {
      "image/png": "[encoded data removed]",
      "text/plain": [
       "<matplotlib.figure.Figure at 0x1452f24ed68>"
      ]
     },
     "metadata": {},
     "output_type": "display_data"
    }
   ],
   "source": [
    "plt.scatter(y_test,pred)\n",
    "plt.xlabel('Y test')\n",
    "plt.ylabel('Predected y')"
   ]
  },
  {
   "cell_type": "code",
   "execution_count": 17,
   "metadata": {},
   "outputs": [],
   "source": [
    "import seaborn as sns\n"
   ]
  },
  {
   "cell_type": "code",
   "execution_count": 18,
   "metadata": {
    "collapsed": true
   },
   "outputs": [],
   "source": [
    "co = df.corr()"
   ]
  },
  {
   "cell_type": "code",
   "execution_count": 19,
   "metadata": {},
   "outputs": [
    {
     "data": {
      "text/plain": [
       "<matplotlib.axes._subplots.AxesSubplot at 0x1452f24ec88>"
      ]
     },
     "execution_count": 19,
     "metadata": {},
     "output_type": "execute_result"
    },
    {
     "data": {
      "image/png": "[encoded data removed]",
      "text/plain": [
       "<matplotlib.figure.Figure at 0x1452f4118d0>"
      ]
     },
     "metadata": {},
     "output_type": "display_data"
    }
   ],
   "source": [
    "sns.heatmap(co,annot=True)"
   ]
  },
  {
   "cell_type": "code",
   "execution_count": 20,
   "metadata": {},
   "outputs": [
    {
     "data": {
      "text/html": [
       "<div>\n",
       "<style>\n",
       "    .dataframe thead tr:only-child th {\n",
       "        text-align: right;\n",
       "    }\n",
       "\n",
       "    .dataframe thead th {\n",
       "        text-align: left;\n",
       "    }\n",
       "\n",
       "    .dataframe tbody tr th {\n",
       "        vertical-align: top;\n",
       "    }\n",
       "</style>\n",
       "<table border=\"1\" class=\"dataframe\">\n",
       "  <thead>\n",
       "    <tr style=\"text-align: right;\">\n",
       "      <th></th>\n",
       "      <th>YEAR</th>\n",
       "      <th>AUC</th>\n",
       "      <th>AR</th>\n",
       "      <th>MSP</th>\n",
       "      <th>CPI</th>\n",
       "      <th>FPI</th>\n",
       "      <th>CY</th>\n",
       "      <th>Production</th>\n",
       "    </tr>\n",
       "  </thead>\n",
       "  <tbody>\n",
       "    <tr>\n",
       "      <th>YEAR</th>\n",
       "      <td>1.000000</td>\n",
       "      <td>0.219258</td>\n",
       "      <td>-0.281707</td>\n",
       "      <td>0.955814</td>\n",
       "      <td>0.998680</td>\n",
       "      <td>0.584055</td>\n",
       "      <td>0.815278</td>\n",
       "      <td>0.619946</td>\n",
       "    </tr>\n",
       "    <tr>\n",
       "      <th>AUC</th>\n",
       "      <td>0.219258</td>\n",
       "      <td>1.000000</td>\n",
       "      <td>0.288346</td>\n",
       "      <td>0.330163</td>\n",
       "      <td>0.236171</td>\n",
       "      <td>0.545902</td>\n",
       "      <td>0.368676</td>\n",
       "      <td>0.838950</td>\n",
       "    </tr>\n",
       "    <tr>\n",
       "      <th>AR</th>\n",
       "      <td>-0.281707</td>\n",
       "      <td>0.288346</td>\n",
       "      <td>1.000000</td>\n",
       "      <td>-0.309341</td>\n",
       "      <td>-0.274495</td>\n",
       "      <td>-0.104787</td>\n",
       "      <td>-0.087879</td>\n",
       "      <td>0.111738</td>\n",
       "    </tr>\n",
       "    <tr>\n",
       "      <th>MSP</th>\n",
       "      <td>0.955814</td>\n",
       "      <td>0.330163</td>\n",
       "      <td>-0.309341</td>\n",
       "      <td>1.000000</td>\n",
       "      <td>0.955401</td>\n",
       "      <td>0.663050</td>\n",
       "      <td>0.774203</td>\n",
       "      <td>0.669913</td>\n",
       "    </tr>\n",
       "    <tr>\n",
       "      <th>CPI</th>\n",
       "      <td>0.998680</td>\n",
       "      <td>0.236171</td>\n",
       "      <td>-0.274495</td>\n",
       "      <td>0.955401</td>\n",
       "      <td>1.000000</td>\n",
       "      <td>0.610098</td>\n",
       "      <td>0.819709</td>\n",
       "      <td>0.632797</td>\n",
       "    </tr>\n",
       "    <tr>\n",
       "      <th>FPI</th>\n",
       "      <td>0.584055</td>\n",
       "      <td>0.545902</td>\n",
       "      <td>-0.104787</td>\n",
       "      <td>0.663050</td>\n",
       "      <td>0.610098</td>\n",
       "      <td>1.000000</td>\n",
       "      <td>0.547398</td>\n",
       "      <td>0.680968</td>\n",
       "    </tr>\n",
       "    <tr>\n",
       "      <th>CY</th>\n",
       "      <td>0.815278</td>\n",
       "      <td>0.368676</td>\n",
       "      <td>-0.087879</td>\n",
       "      <td>0.774203</td>\n",
       "      <td>0.819709</td>\n",
       "      <td>0.547398</td>\n",
       "      <td>1.000000</td>\n",
       "      <td>0.811213</td>\n",
       "    </tr>\n",
       "    <tr>\n",
       "      <th>Production</th>\n",
       "      <td>0.619946</td>\n",
       "      <td>0.838950</td>\n",
       "      <td>0.111738</td>\n",
       "      <td>0.669913</td>\n",
       "      <td>0.632797</td>\n",
       "      <td>0.680968</td>\n",
       "      <td>0.811213</td>\n",
       "      <td>1.000000</td>\n",
       "    </tr>\n",
       "  </tbody>\n",
       "</table>\n",
       "</div>"
      ],
      "text/plain": [
       "               YEAR        AUC        AR       MSP       CPI       FPI  \\\n",
       "YEAR        1.000000  0.219258 -0.281707  0.955814  0.998680  0.584055   \n",
       "AUC         0.219258  1.000000  0.288346  0.330163  0.236171  0.545902   \n",
       "AR         -0.281707  0.288346  1.000000 -0.309341 -0.274495 -0.104787   \n",
       "MSP         0.955814  0.330163 -0.309341  1.000000  0.955401  0.663050   \n",
       "CPI         0.998680  0.236171 -0.274495  0.955401  1.000000  0.610098   \n",
       "FPI         0.584055  0.545902 -0.104787  0.663050  0.610098  1.000000   \n",
       "CY          0.815278  0.368676 -0.087879  0.774203  0.819709  0.547398   \n",
       "Production  0.619946  0.838950  0.111738  0.669913  0.632797  0.680968   \n",
       "\n",
       "                  CY  Production  \n",
       "YEAR        0.815278    0.619946  \n",
       "AUC         0.368676    0.838950  \n",
       "AR         -0.087879    0.111738  \n",
       "MSP         0.774203    0.669913  \n",
       "CPI         0.819709    0.632797  \n",
       "FPI         0.547398    0.680968  \n",
       "CY          1.000000    0.811213  \n",
       "Production  0.811213    1.000000  "
      ]
     },
     "execution_count": 20,
     "metadata": {},
     "output_type": "execute_result"
    }
   ],
   "source": [
    "co"
   ]
  },
  {
   "cell_type": "code",
   "execution_count": null,
   "metadata": {
    "collapsed": true
   },
   "outputs": [],
   "source": []
  }
 ],
 "metadata": {
  "kernelspec": {
   "display_name": "Python 3",
   "language": "python",
   "name": "python3"
  },
  "language_info": {
   "codemirror_mode": {
    "name": "ipython",
    "version": 3
   },
   "file_extension": ".py",
   "mimetype": "text/x-python",
   "name": "python",
   "nbconvert_exporter": "python",
   "pygments_lexer": "ipython3",
   "version": "3.6.3"
  }
 },
 "nbformat": 4,
 "nbformat_minor": 2
}
