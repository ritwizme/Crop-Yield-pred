{
 "cells": [
  {
   "cell_type": "code",
   "execution_count": 1,
   "metadata": {
    "collapsed": true
   },
   "outputs": [],
   "source": [
    "import numpy as np\n",
    "import pandas as pd\n",
    "import matplotlib.pyplot as plt\n",
    "%matplotlib inline"
   ]
  },
  {
   "cell_type": "code",
   "execution_count": 2,
   "metadata": {
    "collapsed": true
   },
   "outputs": [],
   "source": [
    "df = pd.read_csv(\"maize.csv\")"
   ]
  },
  {
   "cell_type": "code",
   "execution_count": 3,
   "metadata": {},
   "outputs": [
    {
     "data": {
      "text/html": [
       "<div>\n",
       "<style>\n",
       "    .dataframe thead tr:only-child th {\n",
       "        text-align: right;\n",
       "    }\n",
       "\n",
       "    .dataframe thead th {\n",
       "        text-align: left;\n",
       "    }\n",
       "\n",
       "    .dataframe tbody tr th {\n",
       "        vertical-align: top;\n",
       "    }\n",
       "</style>\n",
       "<table border=\"1\" class=\"dataframe\">\n",
       "  <thead>\n",
       "    <tr style=\"text-align: right;\">\n",
       "      <th></th>\n",
       "      <th>YEAR</th>\n",
       "      <th>AUC</th>\n",
       "      <th>AR</th>\n",
       "      <th>MSP</th>\n",
       "      <th>CPI</th>\n",
       "      <th>FPI</th>\n",
       "      <th>CY</th>\n",
       "      <th>Production</th>\n",
       "    </tr>\n",
       "  </thead>\n",
       "  <tbody>\n",
       "    <tr>\n",
       "      <th>0</th>\n",
       "      <td>1980</td>\n",
       "      <td>6.01</td>\n",
       "      <td>1182.3</td>\n",
       "      <td>160</td>\n",
       "      <td>82.4</td>\n",
       "      <td>93.2</td>\n",
       "      <td>1159</td>\n",
       "      <td>6.96</td>\n",
       "    </tr>\n",
       "    <tr>\n",
       "      <th>1</th>\n",
       "      <td>1981</td>\n",
       "      <td>5.94</td>\n",
       "      <td>1170.7</td>\n",
       "      <td>165</td>\n",
       "      <td>90.9</td>\n",
       "      <td>93.8</td>\n",
       "      <td>1162</td>\n",
       "      <td>6.90</td>\n",
       "    </tr>\n",
       "    <tr>\n",
       "      <th>2</th>\n",
       "      <td>1982</td>\n",
       "      <td>5.72</td>\n",
       "      <td>1084.4</td>\n",
       "      <td>170</td>\n",
       "      <td>96.5</td>\n",
       "      <td>94.0</td>\n",
       "      <td>1145</td>\n",
       "      <td>6.55</td>\n",
       "    </tr>\n",
       "    <tr>\n",
       "      <th>3</th>\n",
       "      <td>1983</td>\n",
       "      <td>5.86</td>\n",
       "      <td>1320.9</td>\n",
       "      <td>170</td>\n",
       "      <td>99.6</td>\n",
       "      <td>94.2</td>\n",
       "      <td>1352</td>\n",
       "      <td>7.92</td>\n",
       "    </tr>\n",
       "    <tr>\n",
       "      <th>4</th>\n",
       "      <td>1984</td>\n",
       "      <td>5.80</td>\n",
       "      <td>1160.8</td>\n",
       "      <td>185</td>\n",
       "      <td>103.9</td>\n",
       "      <td>94.7</td>\n",
       "      <td>1456</td>\n",
       "      <td>8.44</td>\n",
       "    </tr>\n",
       "  </tbody>\n",
       "</table>\n",
       "</div>"
      ],
      "text/plain": [
       "   YEAR   AUC      AR  MSP    CPI   FPI    CY  Production\n",
       "0  1980  6.01  1182.3  160   82.4  93.2  1159        6.96\n",
       "1  1981  5.94  1170.7  165   90.9  93.8  1162        6.90\n",
       "2  1982  5.72  1084.4  170   96.5  94.0  1145        6.55\n",
       "3  1983  5.86  1320.9  170   99.6  94.2  1352        7.92\n",
       "4  1984  5.80  1160.8  185  103.9  94.7  1456        8.44"
      ]
     },
     "execution_count": 3,
     "metadata": {},
     "output_type": "execute_result"
    }
   ],
   "source": [
    "df.head()"
   ]
  },
  {
   "cell_type": "code",
   "execution_count": 4,
   "metadata": {
    "collapsed": true
   },
   "outputs": [],
   "source": [
    "from sklearn.model_selection import train_test_split"
   ]
  },
  {
   "cell_type": "code",
   "execution_count": 5,
   "metadata": {
    "collapsed": true
   },
   "outputs": [],
   "source": [
    "df=df.dropna()"
   ]
  },
  {
   "cell_type": "code",
   "execution_count": 6,
   "metadata": {
    "collapsed": true
   },
   "outputs": [],
   "source": [
    "X = df[['YEAR','AUC','AR','MSP','CPI','FPI']]"
   ]
  },
  {
   "cell_type": "code",
   "execution_count": 7,
   "metadata": {
    "collapsed": true
   },
   "outputs": [],
   "source": [
    "y=df['Production']"
   ]
  },
  {
   "cell_type": "code",
   "execution_count": 8,
   "metadata": {
    "collapsed": true
   },
   "outputs": [],
   "source": [
    "X_train,X_test,y_train,y_test = train_test_split(X,y,test_size=0.3,random_state=101)"
   ]
  },
  {
   "cell_type": "code",
   "execution_count": 9,
   "metadata": {
    "collapsed": true
   },
   "outputs": [],
   "source": [
    "from sklearn.linear_model import LinearRegression"
   ]
  },
  {
   "cell_type": "code",
   "execution_count": 10,
   "metadata": {
    "collapsed": true
   },
   "outputs": [],
   "source": [
    "lm = LinearRegression()"
   ]
  },
  {
   "cell_type": "code",
   "execution_count": 11,
   "metadata": {},
   "outputs": [
    {
     "data": {
      "text/plain": [
       "LinearRegression(copy_X=True, fit_intercept=True, n_jobs=1, normalize=False)"
      ]
     },
     "execution_count": 11,
     "metadata": {},
     "output_type": "execute_result"
    }
   ],
   "source": [
    "lm.fit(X_train,y_train)"
   ]
  },
  {
   "cell_type": "code",
   "execution_count": 12,
   "metadata": {
    "collapsed": true
   },
   "outputs": [],
   "source": [
    "pred = lm.predict(X_test)"
   ]
  },
  {
   "cell_type": "code",
   "execution_count": 13,
   "metadata": {},
   "outputs": [
    {
     "name": "stdout",
     "output_type": "stream",
     "text": [
      "[ 6.42641242 19.29407801 19.5995304  16.59728597 11.08928041 11.96834095\n",
      "  6.76839498 18.04310833 15.57069458 10.79174357]\n"
     ]
    }
   ],
   "source": [
    "print(pred)"
   ]
  },
  {
   "cell_type": "code",
   "execution_count": 14,
   "metadata": {},
   "outputs": [
    {
     "data": {
      "text/plain": [
       "Text(0,0.5,'Predected y')"
      ]
     },
     "execution_count": 14,
     "metadata": {},
     "output_type": "execute_result"
    },
    {
     "data": {
      "image/png": "[encoded data removed]",
      "text/plain": [
       "<matplotlib.figure.Figure at 0x1f27f44fa20>"
      ]
     },
     "metadata": {},
     "output_type": "display_data"
    }
   ],
   "source": [
    "plt.scatter(y_test,pred)\n",
    "plt.xlabel('Y test')\n",
    "plt.ylabel('Predected y')"
   ]
  },
  {
   "cell_type": "code",
   "execution_count": 15,
   "metadata": {
    "collapsed": true
   },
   "outputs": [],
   "source": [
    "import seaborn as sns\n"
   ]
  },
  {
   "cell_type": "code",
   "execution_count": 16,
   "metadata": {
    "collapsed": true
   },
   "outputs": [],
   "source": [
    "co = df.corr()"
   ]
  },
  {
   "cell_type": "code",
   "execution_count": 17,
   "metadata": {},
   "outputs": [
    {
     "data": {
      "text/plain": [
       "<matplotlib.axes._subplots.AxesSubplot at 0x1f27fd17390>"
      ]
     },
     "execution_count": 17,
     "metadata": {},
     "output_type": "execute_result"
    },
    {
     "data": {
      "image/png": "[encoded data removed]",
      "text/plain": [
       "<matplotlib.figure.Figure at 0x1f27fcd9dd8>"
      ]
     },
     "metadata": {},
     "output_type": "display_data"
    }
   ],
   "source": [
    "sns.heatmap(co,annot=True)"
   ]
  },
  {
   "cell_type": "code",
   "execution_count": 18,
   "metadata": {},
   "outputs": [
    {
     "data": {
      "text/html": [
       "<div>\n",
       "<style>\n",
       "    .dataframe thead tr:only-child th {\n",
       "        text-align: right;\n",
       "    }\n",
       "\n",
       "    .dataframe thead th {\n",
       "        text-align: left;\n",
       "    }\n",
       "\n",
       "    .dataframe tbody tr th {\n",
       "        vertical-align: top;\n",
       "    }\n",
       "</style>\n",
       "<table border=\"1\" class=\"dataframe\">\n",
       "  <thead>\n",
       "    <tr style=\"text-align: right;\">\n",
       "      <th></th>\n",
       "      <th>YEAR</th>\n",
       "      <th>AUC</th>\n",
       "      <th>AR</th>\n",
       "      <th>MSP</th>\n",
       "      <th>CPI</th>\n",
       "      <th>FPI</th>\n",
       "      <th>CY</th>\n",
       "      <th>Production</th>\n",
       "    </tr>\n",
       "  </thead>\n",
       "  <tbody>\n",
       "    <tr>\n",
       "      <th>YEAR</th>\n",
       "      <td>1.000000</td>\n",
       "      <td>0.879080</td>\n",
       "      <td>-0.293632</td>\n",
       "      <td>0.926364</td>\n",
       "      <td>0.998766</td>\n",
       "      <td>0.638544</td>\n",
       "      <td>0.927082</td>\n",
       "      <td>0.918590</td>\n",
       "    </tr>\n",
       "    <tr>\n",
       "      <th>AUC</th>\n",
       "      <td>0.879080</td>\n",
       "      <td>1.000000</td>\n",
       "      <td>-0.252793</td>\n",
       "      <td>0.903478</td>\n",
       "      <td>0.882916</td>\n",
       "      <td>0.678766</td>\n",
       "      <td>0.877154</td>\n",
       "      <td>0.959287</td>\n",
       "    </tr>\n",
       "    <tr>\n",
       "      <th>AR</th>\n",
       "      <td>-0.293632</td>\n",
       "      <td>-0.252793</td>\n",
       "      <td>1.000000</td>\n",
       "      <td>-0.334273</td>\n",
       "      <td>-0.286769</td>\n",
       "      <td>-0.137499</td>\n",
       "      <td>-0.150738</td>\n",
       "      <td>-0.196835</td>\n",
       "    </tr>\n",
       "    <tr>\n",
       "      <th>MSP</th>\n",
       "      <td>0.926364</td>\n",
       "      <td>0.903478</td>\n",
       "      <td>-0.334273</td>\n",
       "      <td>1.000000</td>\n",
       "      <td>0.931603</td>\n",
       "      <td>0.820060</td>\n",
       "      <td>0.891552</td>\n",
       "      <td>0.925475</td>\n",
       "    </tr>\n",
       "    <tr>\n",
       "      <th>CPI</th>\n",
       "      <td>0.998766</td>\n",
       "      <td>0.882916</td>\n",
       "      <td>-0.286769</td>\n",
       "      <td>0.931603</td>\n",
       "      <td>1.000000</td>\n",
       "      <td>0.662014</td>\n",
       "      <td>0.931440</td>\n",
       "      <td>0.923883</td>\n",
       "    </tr>\n",
       "    <tr>\n",
       "      <th>FPI</th>\n",
       "      <td>0.638544</td>\n",
       "      <td>0.678766</td>\n",
       "      <td>-0.137499</td>\n",
       "      <td>0.820060</td>\n",
       "      <td>0.662014</td>\n",
       "      <td>1.000000</td>\n",
       "      <td>0.677567</td>\n",
       "      <td>0.721290</td>\n",
       "    </tr>\n",
       "    <tr>\n",
       "      <th>CY</th>\n",
       "      <td>0.927082</td>\n",
       "      <td>0.877154</td>\n",
       "      <td>-0.150738</td>\n",
       "      <td>0.891552</td>\n",
       "      <td>0.931440</td>\n",
       "      <td>0.677567</td>\n",
       "      <td>1.000000</td>\n",
       "      <td>0.971889</td>\n",
       "    </tr>\n",
       "    <tr>\n",
       "      <th>Production</th>\n",
       "      <td>0.918590</td>\n",
       "      <td>0.959287</td>\n",
       "      <td>-0.196835</td>\n",
       "      <td>0.925475</td>\n",
       "      <td>0.923883</td>\n",
       "      <td>0.721290</td>\n",
       "      <td>0.971889</td>\n",
       "      <td>1.000000</td>\n",
       "    </tr>\n",
       "  </tbody>\n",
       "</table>\n",
       "</div>"
      ],
      "text/plain": [
       "                YEAR       AUC        AR       MSP       CPI       FPI  \\\n",
       "YEAR        1.000000  0.879080 -0.293632  0.926364  0.998766  0.638544   \n",
       "AUC         0.879080  1.000000 -0.252793  0.903478  0.882916  0.678766   \n",
       "AR         -0.293632 -0.252793  1.000000 -0.334273 -0.286769 -0.137499   \n",
       "MSP         0.926364  0.903478 -0.334273  1.000000  0.931603  0.820060   \n",
       "CPI         0.998766  0.882916 -0.286769  0.931603  1.000000  0.662014   \n",
       "FPI         0.638544  0.678766 -0.137499  0.820060  0.662014  1.000000   \n",
       "CY          0.927082  0.877154 -0.150738  0.891552  0.931440  0.677567   \n",
       "Production  0.918590  0.959287 -0.196835  0.925475  0.923883  0.721290   \n",
       "\n",
       "                  CY  Production  \n",
       "YEAR        0.927082    0.918590  \n",
       "AUC         0.877154    0.959287  \n",
       "AR         -0.150738   -0.196835  \n",
       "MSP         0.891552    0.925475  \n",
       "CPI         0.931440    0.923883  \n",
       "FPI         0.677567    0.721290  \n",
       "CY          1.000000    0.971889  \n",
       "Production  0.971889    1.000000  "
      ]
     },
     "execution_count": 18,
     "metadata": {},
     "output_type": "execute_result"
    }
   ],
   "source": [
    "co"
   ]
  },
  {
   "cell_type": "code",
   "execution_count": null,
   "metadata": {
    "collapsed": true
   },
   "outputs": [],
   "source": []
  }
 ],
 "metadata": {
  "kernelspec": {
   "display_name": "Python 3",
   "language": "python",
   "name": "python3"
  },
  "language_info": {
   "codemirror_mode": {
    "name": "ipython",
    "version": 3
   },
   "file_extension": ".py",
   "mimetype": "text/x-python",
   "name": "python",
   "nbconvert_exporter": "python",
   "pygments_lexer": "ipython3",
   "version": "3.6.3"
  }
 },
 "nbformat": 4,
 "nbformat_minor": 2
}
